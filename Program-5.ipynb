{
 "cells": [
  {
   "cell_type": "code",
   "execution_count": 8,
   "id": "67cce93d",
   "metadata": {},
   "outputs": [
    {
     "name": "stdout",
     "output_type": "stream",
     "text": [
      "Kernel: rbf, Gamma: 0.5, C: 0.01, Accuracy: 0.3, Total Support Vectors: 120\n",
      "Kernel: rbf, Gamma: 0.5, C: 1, Accuracy: 1.0, Total Support Vectors: 39\n",
      "Kernel: rbf, Gamma: 0.5, C: 10, Accuracy: 1.0, Total Support Vectors: 31\n",
      "\n",
      "Best Classification Accuracy: 1.0\n",
      "Best Hyperparameters: ('rbf', 0.5, 1)\n",
      "Total Support Vectors for Best Model: 39\n"
     ]
    }
   ],
   "source": [
    "import numpy as np\n",
    "from sklearn.datasets import load_iris\n",
    "from sklearn.model_selection import train_test_split\n",
    "from sklearn.svm import SVC\n",
    "from sklearn.metrics import accuracy_score\n",
    "\n",
    "# Load the iris dataset\n",
    "iris = load_iris()\n",
    "X = iris.data\n",
    "y = iris.target\n",
    "\n",
    "# Split the data into training and test sets\n",
    "X_train, X_test, y_train, y_test = train_test_split(X, y, test_size=0.2, random_state=42)\n",
    "\n",
    "# Define the hyperparameters to iterate over\n",
    "kernels = ['rbf']\n",
    "gammas = [0.5]\n",
    "Cs = [0.01, 1, 10]\n",
    "\n",
    "# Initialize variables to track the best model found\n",
    "best_accuracy = 0\n",
    "best_parameters = None\n",
    "best_support_vectors = None\n",
    "\n",
    "# Iterate over each combination of hyperparameters\n",
    "for kernel in kernels:\n",
    "    for gamma in gammas:\n",
    "        for C in Cs:\n",
    "            # Create SVM classifier with current hyperparameters\n",
    "            svm_clf = SVC(kernel=kernel, gamma=gamma, C=C, decision_function_shape='ovr')\n",
    "            \n",
    "            # Train the classifier\n",
    "            svm_clf.fit(X_train, y_train)\n",
    "            \n",
    "            # Predict on the test set\n",
    "            y_pred = svm_clf.predict(X_test)\n",
    "            \n",
    "            # Calculate accuracy\n",
    "            accuracy = accuracy_score(y_test, y_pred)\n",
    "            \n",
    "            # Get total number of support vectors\n",
    "            total_support_vectors = np.sum(svm_clf.n_support_)\n",
    "            \n",
    "            # Print current results\n",
    "            print(f\"Kernel: {kernel}, Gamma: {gamma}, C: {C}, Accuracy: {accuracy}, Total Support Vectors: {total_support_vectors}\")\n",
    "            \n",
    "            # Check if current model is the best found so far\n",
    "            if accuracy > best_accuracy:\n",
    "                best_accuracy = accuracy\n",
    "                best_parameters = (kernel, gamma, C)\n",
    "                best_support_vectors = total_support_vectors\n",
    "\n",
    "# Print the best results found\n",
    "print(\"\\nBest Classification Accuracy:\", best_accuracy)\n",
    "print(\"Best Hyperparameters:\", best_parameters)\n",
    "print(\"Total Support Vectors for Best Model:\", best_support_vectors)\n",
    "\n"
   ]
  },
  {
   "cell_type": "code",
   "execution_count": null,
   "id": "1d91f0a8",
   "metadata": {},
   "outputs": [],
   "source": []
  }
 ],
 "metadata": {
  "kernelspec": {
   "display_name": "Python 3 (ipykernel)",
   "language": "python",
   "name": "python3"
  },
  "language_info": {
   "codemirror_mode": {
    "name": "ipython",
    "version": 3
   },
   "file_extension": ".py",
   "mimetype": "text/x-python",
   "name": "python",
   "nbconvert_exporter": "python",
   "pygments_lexer": "ipython3",
   "version": "3.10.9"
  }
 },
 "nbformat": 4,
 "nbformat_minor": 5
}
